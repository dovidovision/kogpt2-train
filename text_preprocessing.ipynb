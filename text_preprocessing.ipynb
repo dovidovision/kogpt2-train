{
 "cells": [
  {
   "cell_type": "code",
   "execution_count": null,
   "metadata": {},
   "outputs": [],
   "source": [
    "import re"
   ]
  },
  {
   "cell_type": "code",
   "execution_count": null,
   "metadata": {},
   "outputs": [],
   "source": [
    "examples=[]\n",
    "with open('data/cat_diary_data_2.0v.txt','r') as f:\n",
    "    lines = f.readlines()\n",
    "    for line in lines:\n",
    "        examples.append(line)"
   ]
  },
  {
   "cell_type": "code",
   "execution_count": null,
   "metadata": {},
   "outputs": [],
   "source": [
    "def split_sentence_cat(examples):\n",
    "    preprocessed_text=[]\n",
    "    for example in examples:\n",
    "        cur=0\n",
    "        for item in re.finditer(r'냥\\S+',example):\n",
    "            text = example[cur:item.end()].strip()\n",
    "            cur = item.end()+1\n",
    "            if text:\n",
    "                preprocessed_text.append(text)\n",
    "    return preprocessed_text\n",
    "\n",
    "def split_sentence_head(examples):\n",
    "    preprocessed_text=[]\n",
    "    for example in examples:\n",
    "        item = re.search('.+일기(.|):',example)\n",
    "        if item:\n",
    "            head = example[:item.end()].strip()+':'\n",
    "            main = example[item.end():].strip()\n",
    "            if head:\n",
    "                preprocessed_text.append(head)\n",
    "            if main:\n",
    "                preprocessed_text.append(main)\n",
    "        else:\n",
    "            if example:\n",
    "                preprocessed_text.append(example)\n",
    "    return preprocessed_text\n",
    "\n",
    "def clean_punc(texts):\n",
    "    punct_mapping = {\"‘\": \"'\", \"₹\": \"e\", \"´\": \"'\", \"°\": \"\", \"€\": \"e\", \"™\": \"tm\", \"√\": \" sqrt \", \"×\": \"x\", \"²\": \"2\", \"—\": \"-\", \"–\": \"-\", \"’\": \"'\", \"_\": \"-\", \"`\": \"'\", '“': '\"', '”': '\"', '“': '\"', \"£\": \"e\", '∞': 'infinity', 'θ': 'theta', '÷': '/', 'α': 'alpha', '•': '.', 'à': 'a', '−': '-', 'β': 'beta', '∅': '', '³': '3', 'π': 'pi', }\n",
    "\n",
    "    preprocessed_text = []\n",
    "    for text in texts:\n",
    "        for p in punct_mapping:\n",
    "            text = text.replace(p, punct_mapping[p])\n",
    "        text = text.strip()\n",
    "        if text:\n",
    "            preprocessed_text.append(text)\n",
    "    return preprocessed_text\n",
    "\n",
    "def remove_repeated_spacing(texts):\n",
    "    \"\"\"\n",
    "    두 개 이상의 연속된 공백을 하나로 치환합니다.\n",
    "    ``오늘은    날씨가   좋다.`` -> ``오늘은 날씨가 좋다.``\n",
    "    \"\"\"\n",
    "    preprocessed_text = []\n",
    "    for text in texts:\n",
    "        text = re.sub(r\"\\s+\", \" \", text).strip()\n",
    "        if text:\n",
    "            preprocessed_text.append(text)\n",
    "    return preprocessed_text\n"
   ]
  },
  {
   "cell_type": "code",
   "execution_count": null,
   "metadata": {},
   "outputs": [],
   "source": [
    "examples = split_sentence_cat(examples)\n",
    "examples = split_sentence_head(examples)\n",
    "examples = clean_punc(examples)\n",
    "examples = remove_repeated_spacing(examples)"
   ]
  },
  {
   "cell_type": "code",
   "execution_count": null,
   "metadata": {},
   "outputs": [],
   "source": [
    "with open('data/cat_diary_data_3.3v.txt','w') as f:\n",
    "    for example in examples:\n",
    "        f.write(example +'\\n')"
   ]
  }
 ],
 "metadata": {
  "interpreter": {
   "hash": "d24587c17c40f99552d078ebe98b05bf186086550d16ce6b21ce2038920c3012"
  },
  "kernelspec": {
   "display_name": "Python 3.7.0 64-bit ('model_serving': conda)",
   "language": "python",
   "name": "python3"
  },
  "language_info": {
   "codemirror_mode": {
    "name": "ipython",
    "version": 3
   },
   "file_extension": ".py",
   "mimetype": "text/x-python",
   "name": "python",
   "nbconvert_exporter": "python",
   "pygments_lexer": "ipython3",
   "version": "3.7.11"
  },
  "orig_nbformat": 4
 },
 "nbformat": 4,
 "nbformat_minor": 2
}
