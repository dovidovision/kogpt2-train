{
 "cells": [
  {
   "cell_type": "code",
   "execution_count": null,
   "metadata": {},
   "outputs": [],
   "source": [
    "import torch\n",
    "from transformers import PreTrainedTokenizerFast,GPT2LMHeadModel\n",
    "device = torch.device('cuda' if torch.cuda.is_available() else 'cpu')"
   ]
  },
  {
   "cell_type": "markdown",
   "metadata": {},
   "source": [
    "### Model load\n",
    "- from larcane/kogpt2-cat-diary"
   ]
  },
  {
   "cell_type": "code",
   "execution_count": null,
   "metadata": {},
   "outputs": [],
   "source": [
    "tokenizer = PreTrainedTokenizerFast.from_pretrained(\"larcane/kogpt2-cat-diary\",\n",
    "  bos_token='<s>', eos_token='</s>', unk_token='<unk>',\n",
    "  pad_token='<pad>', mask_token='<mask>') \n",
    "\n",
    "model = GPT2LMHeadModel.from_pretrained('larcane/kogpt2-cat-diary').to(device)"
   ]
  },
  {
   "cell_type": "markdown",
   "metadata": {},
   "source": [
    "- From local"
   ]
  },
  {
   "cell_type": "code",
   "execution_count": null,
   "metadata": {},
   "outputs": [],
   "source": [
    "model.load_state_dict(torch.load('./work_dirs/model_output_blocksize-48_epoch30/pytorch_model.bin'))"
   ]
  },
  {
   "cell_type": "markdown",
   "metadata": {},
   "source": [
    "### Text Generation"
   ]
  },
  {
   "cell_type": "code",
   "execution_count": null,
   "metadata": {},
   "outputs": [],
   "source": [
    "text=\"행복한 고양이의 일기\"\n",
    "input_ids = tokenizer.encode(f\"<s>{text} ::</s><s>\",return_tensors='pt').to(device)\n",
    "generated = model.generate(\n",
    "    input_ids,\n",
    "    do_sample=True,\n",
    "    num_return_sequences=5,\n",
    "    max_length=64, \n",
    "    top_k=200, \n",
    "    top_p=0.95,\n",
    "    temperature=0.8,\n",
    "    # eos_token_id=tokenizer.eos_token_id,\n",
    "    early_stopping=True,\n",
    "    bad_words_ids=[[tokenizer.unk_token_id]]\n",
    ").tolist()\n",
    "\n",
    "for text in tokenizer.batch_decode(generated,skip_special_tokens=True):\n",
    "    print(text)\n",
    "    print()\n"
   ]
  },
  {
   "cell_type": "code",
   "execution_count": null,
   "metadata": {},
   "outputs": [],
   "source": []
  }
 ],
 "metadata": {
  "interpreter": {
   "hash": "e31c68abf1d5dd3f9e2269f23eadf1b199587e56c0618a30760176a65ebfcab4"
  },
  "kernelspec": {
   "display_name": "Python 3.7.11 64-bit ('lightweight': conda)",
   "language": "python",
   "name": "python3"
  },
  "language_info": {
   "codemirror_mode": {
    "name": "ipython",
    "version": 3
   },
   "file_extension": ".py",
   "mimetype": "text/x-python",
   "name": "python",
   "nbconvert_exporter": "python",
   "pygments_lexer": "ipython3",
   "version": "3.7.11"
  },
  "orig_nbformat": 4
 },
 "nbformat": 4,
 "nbformat_minor": 2
}
